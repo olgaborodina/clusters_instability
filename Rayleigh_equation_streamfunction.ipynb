{
 "cells": [
  {
   "cell_type": "markdown",
   "metadata": {},
   "source": [
    "## theory"
   ]
  },
  {
   "cell_type": "markdown",
   "metadata": {},
   "source": [
    "$$\n",
    "\\psi (y) = \\int dy' G(y, y') \\frac{u''(y')}{u(y) - ic_j} \\psi(y')\n",
    "$$\n",
    "\n",
    "where \n",
    "$y$ — coordinate from $-a$ to $a$ \\\n",
    "$c_j$ — imaginary part of phase velocity and its real part is equal to zero \\\n",
    "$u (y)$ — velocity \\\n",
    "$\\psi (y)$ — stream function \\\n",
    "$G(y, y')$ — Green function \\\n",
    "\n",
    "We can find $\\psi (y)$ by reducing the problem to solving the set of eigenequations:\n",
    "\n",
    "1) We build new equation\n",
    "$$\n",
    "\\lambda \\psi (y) = \\int dy' G(y, y') \\frac{u''(y')}{u - ic_j} \\psi(y')\n",
    "$$\n",
    "\n",
    "2) We search for those value of $c_j$ such that $\\lambda = 1$.\n",
    "3) Stream function $\\psi (y)$ will be the eigenvector that corresponds to eigenvalue $\\lambda = 1$ and phase velocity $c_j$\n",
    "\n",
    "However, there is a pole at the point where $u(y) = ic_j$, so we need to add residue using the Landau Contour"
   ]
  },
  {
   "cell_type": "markdown",
   "metadata": {},
   "source": [
    "## imports"
   ]
  },
  {
   "cell_type": "code",
   "execution_count": 1,
   "metadata": {},
   "outputs": [],
   "source": [
    "import numpy as np\n",
    "from numpy import linalg as l\n",
    "import scipy.integrate as integrate\n",
    "import matplotlib.pyplot as plt\n",
    "from tqdm import tqdm"
   ]
  },
  {
   "cell_type": "markdown",
   "metadata": {},
   "source": [
    "## functions"
   ]
  },
  {
   "cell_type": "code",
   "execution_count": 2,
   "metadata": {},
   "outputs": [],
   "source": [
    "def initial_state(a):\n",
    "    uy = np.linspace(-np.sqrt(a), np.sqrt(a), 1001)\n",
    "    y = np.sign(uy) * uy ** 2\n",
    "    c = np.linspace(-0.05, 0.05, 20)\n",
    "\n",
    "    Y, Y_ = np.meshgrid(y, y, indexing='ij')\n",
    "\n",
    "    step_y1 = y - np.roll(y, 1)\n",
    "    step_y2 = np.roll(y, -1) - y\n",
    "    step_y1[0] = step_y2[-1] = 0\n",
    "    step_y = (step_y1 + step_y2) / 2 #trapezoidal rule\n",
    "\n",
    "    u = np.tanh(y)\n",
    "    dev2u = - 2 * np.tanh(y) / (np.cosh(y) ** 2)\n",
    "\n",
    "    min_Y = np.minimum(Y, Y_)\n",
    "    max_Y = np.maximum(Y, Y_)\n",
    "\n",
    "    return y, c, u, dev2u, step_y, min_Y, max_Y"
   ]
  },
  {
   "cell_type": "code",
   "execution_count": 3,
   "metadata": {},
   "outputs": [],
   "source": [
    "def count_eigen(k, a, c, max_Y, u, min_Y, dev2u, step_y):\n",
    "    eps = 1e-15\n",
    "    green = - (np.exp(- k * max_Y) - np.exp(- k * (2 * a - max_Y))) * \\\n",
    "              (np.exp(k * min_Y) - np.exp(- k * (2 * a + min_Y))) / \\\n",
    "              (1 - np.exp(- 4 * k * a)) / 2 / k\n",
    "    \n",
    "    residue = np.zeros_like(green, dtype=np.complex128)\n",
    "    residue[:, len(u) // 2 + 1] = (4 * np.pi * c *\n",
    "                                   green[:, len(u) // 2 + 1])\n",
    "    \n",
    "    kernel =  dev2u * green * step_y / (u - 1j * c + eps) \n",
    "    \n",
    "    if (c < 0):\n",
    "        kernel += residue\n",
    "        \n",
    "    if c == 0:\n",
    "        kernel += residue / 2\n",
    "    \n",
    "    val, vect = l.eig(kernel)\n",
    "    return val, vect"
   ]
  },
  {
   "cell_type": "code",
   "execution_count": 4,
   "metadata": {},
   "outputs": [],
   "source": [
    "def find_lambdas(k, a, c, max_Y, u, min_Y, dev2u, step_y):\n",
    "    lambdas = []\n",
    "    for i in range(len(c)):\n",
    "        vals, vect= count_eigen(k, a, c[i], max_Y, u, min_Y, dev2u, step_y)\n",
    "        lambdas.append(np.real(vals).max())\n",
    "      \n",
    "    return np.array(lambdas)"
   ]
  },
  {
   "cell_type": "code",
   "execution_count": 5,
   "metadata": {},
   "outputs": [],
   "source": [
    "def find_c(lambdas):\n",
    "    idx = np.abs(lambdas - 1).argmin()\n",
    "    return c[idx]"
   ]
  },
  {
   "cell_type": "code",
   "execution_count": 6,
   "metadata": {},
   "outputs": [],
   "source": [
    "def find_streamfunc(k, a, c0, max_Y, u, min_Y, dev2u, step_y):\n",
    "    vals, vect = count_eigen(k, a, c0, max_Y, u, min_Y, dev2u, step_y)\n",
    "    vect = vect.T\n",
    "    return vect[np.real(vals).argmax()]"
   ]
  },
  {
   "cell_type": "markdown",
   "metadata": {},
   "source": [
    "## initial state"
   ]
  },
  {
   "cell_type": "code",
   "execution_count": 7,
   "metadata": {},
   "outputs": [],
   "source": [
    "a = 5\n",
    "\n",
    "k_unstable = 0.9907\n",
    "y, c, u, dev2u, step_y, min_Y, max_Y = initial_state(a)\n",
    "lambdas_unstable = find_lambdas(k_unstable, a, c, max_Y, u, min_Y, dev2u, step_y)"
   ]
  },
  {
   "cell_type": "code",
   "execution_count": 8,
   "metadata": {},
   "outputs": [],
   "source": [
    "k_edge = 0.9997\n",
    "y, c, u, dev2u, step_y, min_Y, max_Y = initial_state(a)\n",
    "lambdas_edge = find_lambdas(k_edge, a, c, max_Y, u, min_Y, dev2u, step_y)"
   ]
  },
  {
   "cell_type": "code",
   "execution_count": 9,
   "metadata": {},
   "outputs": [],
   "source": [
    "k_stable = 1.0087\n",
    "y, c, u, dev2u, step_y, min_Y, max_Y = initial_state(a)\n",
    "lambdas_stable = find_lambdas(k_stable, a, c, max_Y, u, min_Y, dev2u, step_y)"
   ]
  },
  {
   "cell_type": "code",
   "execution_count": 10,
   "metadata": {},
   "outputs": [
    {
     "data": {
      "text/plain": [
       "<matplotlib.legend.Legend at 0x11657e610>"
      ]
     },
     "execution_count": 10,
     "metadata": {},
     "output_type": "execute_result"
    },
    {
     "data": {
      "image/png": "[encoded data removed]",
      "text/plain": [
       "<Figure size 432x288 with 1 Axes>"
      ]
     },
     "metadata": {
      "needs_background": "light"
     },
     "output_type": "display_data"
    }
   ],
   "source": [
    "plt.plot([c.min(), c.max()], [1, 1], ls='--', c='grey', alpha=0.7)\n",
    "plt.plot([0, 0], [0.8, 1.2], ls='--', c='grey', alpha=0.7)\n",
    "plt.scatter(c, lambdas_unstable, label=f'k={k_unstable}', zorder=100)\n",
    "plt.plot(c, lambdas_unstable, zorder=101)\n",
    "\n",
    "plt.scatter(c, lambdas_stable, label=f'k={k_stable}', zorder=100)\n",
    "plt.plot(c, lambdas_stable, zorder=101)\n",
    "\n",
    "plt.scatter(c, lambdas_edge, label=f'k={k_edge}', zorder=100)\n",
    "plt.plot(c, lambdas_edge, zorder=101)\n",
    "\n",
    "plt.xlabel('Im(c)')\n",
    "plt.ylabel('lambda')\n",
    "plt.xlim(-0.03, 0.03)\n",
    "plt.legend()"
   ]
  },
  {
   "cell_type": "code",
   "execution_count": 11,
   "metadata": {},
   "outputs": [
    {
     "name": "stderr",
     "output_type": "stream",
     "text": [
      "100%|██████████| 50/50 [34:00<00:00, 40.80s/it]\n"
     ]
    }
   ],
   "source": [
    "c_array = []\n",
    "y, c, u, dev2u, step_y, min_Y, max_Y = initial_state(a)\n",
    "k_array = np.linspace(0.9, 1.1, 50)\n",
    "for k in tqdm(k_array):\n",
    "    lambdas = find_lambdas(k, a, c, max_Y, u, min_Y, dev2u, step_y)\n",
    "    c_0 = find_c(lambdas)\n",
    "    c_array.append(c_0)"
   ]
  },
  {
   "cell_type": "code",
   "execution_count": 12,
   "metadata": {},
   "outputs": [
    {
     "data": {
      "text/plain": [
       "Text(0, 0.5, 'Im(c)')"
      ]
     },
     "execution_count": 12,
     "metadata": {},
     "output_type": "execute_result"
    },
    {
     "data": {
      "image/png": "[encoded data removed]",
      "text/plain": [
       "<Figure size 432x288 with 1 Axes>"
      ]
     },
     "metadata": {
      "needs_background": "light"
     },
     "output_type": "display_data"
    }
   ],
   "source": [
    "plt.scatter(k_array[7:-7], c_array[7:-7])\n",
    "plt.plot(k_array[7:-7], (1 - k_array[7:-7]) * 2 / np.pi)\n",
    "plt.xlabel('k')\n",
    "plt.ylabel('Im(c)')"
   ]
  },
  {
   "cell_type": "code",
   "execution_count": 13,
   "metadata": {},
   "outputs": [],
   "source": [
    "c0_unstable = find_c(lambdas_unstable)\n",
    "c0_stable = find_c(lambdas_stable)\n",
    "c0_edge = find_c(lambdas_edge)"
   ]
  },
  {
   "cell_type": "code",
   "execution_count": 14,
   "metadata": {},
   "outputs": [],
   "source": [
    "streamfunc_unstable = find_streamfunc(k, a, c0_unstable, max_Y, u, min_Y, dev2u, step_y)\n",
    "streamfunc_stable = find_streamfunc(k, a, c0_stable, max_Y, u, min_Y, dev2u, step_y)\n",
    "streamfunc_edge = find_streamfunc(k, a, c0_edge, max_Y, u, min_Y, dev2u, step_y)"
   ]
  },
  {
   "cell_type": "code",
   "execution_count": 17,
   "metadata": {},
   "outputs": [
    {
     "data": {
      "text/plain": [
       "Text(0, 0.5, 'psi(y)')"
      ]
     },
     "execution_count": 17,
     "metadata": {},
     "output_type": "execute_result"
    },
    {
     "data": {
      "image/png": "[encoded data removed]",
      "text/plain": [
       "<Figure size 432x288 with 1 Axes>"
      ]
     },
     "metadata": {
      "needs_background": "light"
     },
     "output_type": "display_data"
    }
   ],
   "source": [
    "plt.plot(y, np.real(streamfunc_unstable), label=f'k={k_unstable}')\n",
    "plt.plot(y, np.real(streamfunc_stable), label=f'k={k_stable}')\n",
    "plt.plot(y, np.real(streamfunc_edge), label=f'k={k_edge}')\n",
    "plt.legend()\n",
    "plt.xlim(-0.1,0.1)\n",
    "plt.ylim(0.048,0.05)\n",
    "plt.xlabel('y')\n",
    "plt.ylabel('psi(y)')"
   ]
  },
  {
   "cell_type": "code",
   "execution_count": null,
   "metadata": {},
   "outputs": [],
   "source": []
  }
 ],
 "metadata": {
  "kernelspec": {
   "display_name": "Python 3",
   "language": "python",
   "name": "python3"
  },
  "language_info": {
   "codemirror_mode": {
    "name": "ipython",
    "version": 3
   },
   "file_extension": ".py",
   "mimetype": "text/x-python",
   "name": "python",
   "nbconvert_exporter": "python",
   "pygments_lexer": "ipython3",
   "version": "3.7.6"
  }
 },
 "nbformat": 4,
 "nbformat_minor": 4
}
