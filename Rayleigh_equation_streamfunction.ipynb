{
 "cells": [
  {
   "cell_type": "markdown",
   "metadata": {},
   "source": [
    "## imports"
   ]
  },
  {
   "cell_type": "code",
   "execution_count": 4,
   "metadata": {},
   "outputs": [],
   "source": [
    "import numpy as np\n",
    "from numpy import linalg as l\n",
    "import scipy.integrate as integrate\n",
    "import matplotlib.pyplot as plt\n",
    "from tqdm import tqdm"
   ]
  },
  {
   "cell_type": "markdown",
   "metadata": {},
   "source": [
    "## functions"
   ]
  },
  {
   "cell_type": "code",
   "execution_count": 5,
   "metadata": {},
   "outputs": [],
   "source": [
    "def initial_state(a):\n",
    "    uy = np.linspace(-np.sqrta(a), np.sqrt(a), 1001)\n",
    "    y = np.sign(uy) * uy ** 2\n",
    "    c = np.linspace(-0.05, 0.05, 20)\n",
    "\n",
    "    Y, Y_ = np.meshgrid(y, y, indexing='ij')\n",
    "\n",
    "    step_y1 = y - np.roll(y, 1)\n",
    "    step_y2 = np.roll(y, -1) - y\n",
    "    step_y1[0] = step_y2[-1] = 0\n",
    "    step_y = (step_y1 + step_y2) / 2 #trapezoidal rule\n",
    "\n",
    "    u = np.tanh(y)\n",
    "    dev2u = - 2 * np.tanh(y) / (np.cosh(y) ** 2)\n",
    "\n",
    "    min_Y = np.minimum(Y, Y_)\n",
    "    max_Y = np.maximum(Y, Y_)\n",
    "\n",
    "    return y, c, u, dev2u, step_y, min_Y, max_Y"
   ]
  },
  {
   "cell_type": "code",
   "execution_count": 6,
   "metadata": {},
   "outputs": [],
   "source": [
    "def count_eigen(k, a, c, max_Y, u, min_Y, dev2u, step_y):\n",
    "    eps = 1e-15\n",
    "    green = - (np.exp(- k * max_Y) - np.exp(- k * (2 * a - max_Y))) * \\\n",
    "              (np.exp(k * min_Y) - np.exp(- k * (2 * a + min_Y))) / \\\n",
    "              (1 - np.exp(- 4 * k * a)) / 2 / k\n",
    "    \n",
    "    residue = np.zeros_like(green, dtype=np.complex128)\n",
    "    residue[:, len(u) // 2 + 1] = (4 * np.pi * c *\n",
    "                                   green[:, len(u) // 2 + 1])\n",
    "    \n",
    "    kernel =  dev2u * green * step_y / (u - 1j * c + eps) \n",
    "    \n",
    "    if (c < 0):\n",
    "        kernel += residue\n",
    "        \n",
    "    if c == 0:\n",
    "        kernel += residue / 2\n",
    "    \n",
    "    val, vect = l.eig(kernel)\n",
    "    return val, vect, residue"
   ]
  },
  {
   "cell_type": "code",
   "execution_count": 44,
   "metadata": {},
   "outputs": [],
   "source": [
    "def find_lambdas(k, a, c, max_Y, u, min_Y, dev2u, step_y):\n",
    "    lambdas = []\n",
    "    for i in range(len(c)):\n",
    "        vals, vect, res = count_eigen(k, a, c[i], max_Y, u, min_Y, dev2u, step_y)\n",
    "        vals_sorted = np.sort(np.real(vals))\n",
    "        lambdas.append(vals_sorted[-1])\n",
    "      \n",
    "    return np.array(lambdas)"
   ]
  },
  {
   "cell_type": "code",
   "execution_count": 52,
   "metadata": {},
   "outputs": [],
   "source": [
    "def find_c(k, a, c, max_Y, u, min_Y, dev2u, step_y):\n",
    "    lambdas = find_lambdas(k, a, c, max_Y, u, min_Y, dev2u, step_y)\n",
    "    idx = np.abs(lambdas - 1).argmin()\n",
    "    return c[idx]"
   ]
  },
  {
   "cell_type": "markdown",
   "metadata": {},
   "source": [
    "## initial state"
   ]
  },
  {
   "cell_type": "code",
   "execution_count": 46,
   "metadata": {},
   "outputs": [],
   "source": [
    "a = 5\n",
    "k = 0.9907\n",
    "y, c, u, dev2u, step_y, min_Y, max_Y = initial_state(a)\n",
    "lambdas_unstable = find_lambdas(k, a, c, max_Y, u, min_Y, dev2u, step_y)"
   ]
  },
  {
   "cell_type": "code",
   "execution_count": 48,
   "metadata": {},
   "outputs": [],
   "source": [
    "k = 0.9997\n",
    "y, c, u, dev2u, step_y, min_Y, max_Y = initial_state(a)\n",
    "lambdas_edge= find_lambdas(k, a, c, max_Y, u, min_Y, dev2u, step_y)"
   ]
  },
  {
   "cell_type": "code",
   "execution_count": 47,
   "metadata": {},
   "outputs": [],
   "source": [
    "k = 1.0087\n",
    "y, c, u, dev2u, step_y, min_Y, max_Y = initial_state(a)\n",
    "lambdas_stable= find_lambdas(k, a, c, max_Y, u, min_Y, dev2u, step_y)"
   ]
  },
  {
   "cell_type": "code",
   "execution_count": 50,
   "metadata": {},
   "outputs": [
    {
     "data": {
      "text/plain": [
       "<matplotlib.legend.Legend at 0x122db9310>"
      ]
     },
     "execution_count": 50,
     "metadata": {},
     "output_type": "execute_result"
    },
    {
     "data": {
      "image/png": "[encoded data removed]",
      "text/plain": [
       "<Figure size 432x288 with 1 Axes>"
      ]
     },
     "metadata": {
      "needs_background": "light"
     },
     "output_type": "display_data"
    }
   ],
   "source": [
    "plt.plot([c.min(), c.max()], [1, 1], ls='--', c='grey', alpha=0.7)\n",
    "plt.plot([0, 0], [0.8, 1.2], ls='--', c='grey', alpha=0.7)\n",
    "plt.scatter(c, lambdas_unstable, label=f'k = 0.9907', zorder=100)\n",
    "plt.plot(c, lambdas_unstable, zorder=101)\n",
    "\n",
    "plt.scatter(c, lambdas_stable, label=f'k = 1.0087', zorder=100)\n",
    "plt.plot(c, lambdas_stable, zorder=101)\n",
    "\n",
    "plt.scatter(c, lambdas_edge, label=f'k = 0.9997', zorder=100)\n",
    "plt.plot(c, lambdas_edge, zorder=101)\n",
    "\n",
    "plt.xlim(-0.01, 0.01)\n",
    "plt.legend()"
   ]
  },
  {
   "cell_type": "code",
   "execution_count": 55,
   "metadata": {},
   "outputs": [],
   "source": [
    "c_array = []\n",
    "y, c, u, dev2u, step_y, min_Y, max_Y = initial_state(a)\n",
    "k_array = np.linspace(0.9, 1.1, 50)\n",
    "for k in tqdm(k_array):\n",
    "    c_0 = find_c(k, a, c, max_Y, u, min_Y, dev2u, step_y)\n",
    "    c_array.append(c_0)"
   ]
  },
  {
   "cell_type": "code",
   "execution_count": 73,
   "metadata": {},
   "outputs": [
    {
     "data": {
      "text/plain": [
       "[<matplotlib.lines.Line2D at 0x123843610>]"
      ]
     },
     "execution_count": 73,
     "metadata": {},
     "output_type": "execute_result"
    },
    {
     "data": {
      "image/png": "[encoded data removed]",
      "text/plain": [
       "<Figure size 432x288 with 1 Axes>"
      ]
     },
     "metadata": {
      "needs_background": "light"
     },
     "output_type": "display_data"
    }
   ],
   "source": [
    "plt.scatter(k_array[7:-7], c_array[7:-7])\n",
    "plt.plot(k_array[7:-7], (1 - k_array[7:-7]) * 2 / np.pi)"
   ]
  },
  {
   "cell_type": "code",
   "execution_count": null,
   "metadata": {},
   "outputs": [],
   "source": []
  }
 ],
 "metadata": {
  "kernelspec": {
   "display_name": "Python 3",
   "language": "python",
   "name": "python3"
  },
  "language_info": {
   "codemirror_mode": {
    "name": "ipython",
    "version": 3
   },
   "file_extension": ".py",
   "mimetype": "text/x-python",
   "name": "python",
   "nbconvert_exporter": "python",
   "pygments_lexer": "ipython3",
   "version": "3.7.6"
  }
 },
 "nbformat": 4,
 "nbformat_minor": 4
}
