{
 "cells": [
  {
   "cell_type": "markdown",
   "metadata": {},
   "source": [
    "## imports"
   ]
  },
  {
   "cell_type": "code",
   "execution_count": 1,
   "metadata": {},
   "outputs": [],
   "source": [
    "import numpy as np\n",
    "import pandas as pd\n",
    "\n",
    "import scipy.integrate as integrate\n",
    "import matplotlib.pyplot as plt\n",
    "from tqdm import tqdm"
   ]
  },
  {
   "cell_type": "markdown",
   "metadata": {},
   "source": [
    "## functions"
   ]
  },
  {
   "cell_type": "code",
   "execution_count": 2,
   "metadata": {},
   "outputs": [],
   "source": [
    "def gauss(v, ro, sigma):\n",
    "    return ro / (np.sqrt(np.pi * 2) * sigma) * np.exp(- v ** 2 / (2 * sigma ** 2))"
   ]
  },
  {
   "cell_type": "code",
   "execution_count": 3,
   "metadata": {},
   "outputs": [],
   "source": [
    "def calculate_mode_part(v, gamma, k, eta, g_ini):\n",
    "    g = - eta / (v - 1j * gamma / k)\n",
    "    g_complex = - 1 /(v - 1j * gamma / k)\n",
    "    C = integrate.simps(eta * (v ** 2 - gamma ** 2 / k ** 2) / (v ** 2 + gamma ** 2 / k ** 2) ** 2, x=v) + \\\n",
    "        1j * integrate.simps(eta * (2 * v * gamma / k) / (v ** 2 + gamma ** 2 / k ** 2) ** 2, x=v)\n",
    "\n",
    "    a = integrate.simps(g_complex * g_ini, x = v) / C\n",
    "    #print(a)\n",
    "    return a * g"
   ]
  },
  {
   "cell_type": "code",
   "execution_count": 4,
   "metadata": {},
   "outputs": [],
   "source": [
    "def dfdt(t, y, v):\n",
    "    return 1j * k * (- v * y - 4 * np.pi * G * F0_dev / k ** 2 * integrate.simps(y, x=v))"
   ]
  },
  {
   "cell_type": "markdown",
   "metadata": {},
   "source": [
    "## parameters and grids"
   ]
  },
  {
   "cell_type": "code",
   "execution_count": 5,
   "metadata": {},
   "outputs": [],
   "source": [
    "ro0 = 1\n",
    "sigma0 = 0.5\n",
    "\n",
    "ro1 = 1\n",
    "sigma1 = 1e-1\n",
    "G = 1"
   ]
  },
  {
   "cell_type": "code",
   "execution_count": 6,
   "metadata": {},
   "outputs": [],
   "source": [
    "uv = np.linspace(-np.sqrt(5), np.sqrt(5), 1001)\n",
    "v = np.sign(uv) * uv ** 2\n",
    "\n",
    "time = np.linspace(0, 5, 100001)\n",
    "t_step = time[1] - time[0]"
   ]
  },
  {
   "cell_type": "code",
   "execution_count": 7,
   "metadata": {},
   "outputs": [],
   "source": [
    "aper_mode = pd.read_csv('hsm_aper_mode.dat', delimiter='\\s+', names=['(k/k_j)**2', 'gamma'])"
   ]
  },
  {
   "cell_type": "code",
   "execution_count": 8,
   "metadata": {},
   "outputs": [],
   "source": [
    "index = 455\n",
    "\n",
    "k = np.sqrt(aper_mode.iloc[index, 0] * 4 * np.pi * G * ro0 / sigma0 ** 2)\n",
    "gamma = aper_mode.iloc[index, 1] * G * ro0\n",
    "blue_line = -3.7481724 #-1.9039562"
   ]
  },
  {
   "cell_type": "markdown",
   "metadata": {},
   "source": [
    "## calculate initial condition"
   ]
  },
  {
   "cell_type": "code",
   "execution_count": 9,
   "metadata": {},
   "outputs": [],
   "source": [
    "F0_dev = gauss(v, ro0, sigma0) * (- v / sigma0 ** 2)"
   ]
  },
  {
   "cell_type": "code",
   "execution_count": 10,
   "metadata": {},
   "outputs": [],
   "source": [
    "g_ini = gauss(v, ro1, sigma1)"
   ]
  },
  {
   "cell_type": "code",
   "execution_count": 11,
   "metadata": {},
   "outputs": [],
   "source": [
    "eta = 4 * np.pi * G / k ** 2 * F0_dev"
   ]
  },
  {
   "cell_type": "code",
   "execution_count": 12,
   "metadata": {},
   "outputs": [],
   "source": [
    "plus = calculate_mode_part(v, gamma, k, eta, g_ini)\n",
    "minus = calculate_mode_part(v, -gamma, k, eta, g_ini)"
   ]
  },
  {
   "cell_type": "code",
   "execution_count": 13,
   "metadata": {},
   "outputs": [],
   "source": [
    "f_ini = g_ini - minus - plus"
   ]
  },
  {
   "cell_type": "markdown",
   "metadata": {},
   "source": [
    "## linearized Boltzmann equation"
   ]
  },
  {
   "cell_type": "markdown",
   "metadata": {},
   "source": [
    "### hand-made solution"
   ]
  },
  {
   "cell_type": "code",
   "execution_count": 14,
   "metadata": {},
   "outputs": [],
   "source": [
    "f = []\n",
    "f_next = f_ini\n",
    "\n",
    "for t in time:\n",
    "    f.append(f_next)\n",
    "    f_next = f_next + t_step * 1j * k * (- v * f_next - \n",
    "                                         4 * np.pi * G * F0_dev / k ** 2 * \n",
    "                                            integrate.simps(f_next, x=v))\n",
    "    "
   ]
  },
  {
   "cell_type": "code",
   "execution_count": 15,
   "metadata": {},
   "outputs": [],
   "source": [
    "density_hm = -integrate.simps(np.real(np.array(f)), x=v, axis=1)"
   ]
  },
  {
   "cell_type": "markdown",
   "metadata": {},
   "source": [
    "### scipy solution"
   ]
  },
  {
   "cell_type": "code",
   "execution_count": 16,
   "metadata": {},
   "outputs": [],
   "source": [
    "diff = integrate.solve_ivp(lambda t, y: dfdt(t, y, v), (0, time[-1]), f_ini, t_eval=time, rtol=1e-5)"
   ]
  },
  {
   "cell_type": "code",
   "execution_count": 17,
   "metadata": {},
   "outputs": [],
   "source": [
    "density_scipy = -integrate.simps(np.real(diff.y.T), x=v, axis=1)"
   ]
  },
  {
   "cell_type": "markdown",
   "metadata": {},
   "source": [
    "## plots"
   ]
  },
  {
   "cell_type": "code",
   "execution_count": 22,
   "metadata": {},
   "outputs": [
    {
     "data": {
      "text/plain": [
       "Text(0, 0.5, 'density')"
      ]
     },
     "execution_count": 22,
     "metadata": {},
     "output_type": "execute_result"
    },
    {
     "data": {
      "image/png": "[encoded data removed]",
      "text/plain": [
       "<Figure size 432x288 with 1 Axes>"
      ]
     },
     "metadata": {
      "needs_background": "light"
     },
     "output_type": "display_data"
    }
   ],
   "source": [
    "plt.plot(time, density_hm, lw=2, c='black')\n",
    "plt.plot(diff.t, density_scipy, lw=1, c='red')\n",
    "\n",
    "plt.plot(time, np.exp(blue_line * np.array(time)/4))\n",
    "plt.yscale('log')\n",
    "plt.xlabel('time')\n",
    "plt.ylabel('density')"
   ]
  },
  {
   "cell_type": "code",
   "execution_count": 19,
   "metadata": {},
   "outputs": [],
   "source": [
    "#d400 = -integrate.simps(np.real(diff.y.T), x=v, axis=1)"
   ]
  },
  {
   "cell_type": "code",
   "execution_count": 20,
   "metadata": {},
   "outputs": [],
   "source": [
    "# df_results = pd.DataFrame(data={'t': time, 'density_400': d400, 'density_455': d455})\n",
    "# df_results.to_csv('densities.dat', sep=' ', index=False)"
   ]
  }
 ],
 "metadata": {
  "kernelspec": {
   "display_name": "Python 3",
   "language": "python",
   "name": "python3"
  },
  "language_info": {
   "codemirror_mode": {
    "name": "ipython",
    "version": 3
   },
   "file_extension": ".py",
   "mimetype": "text/x-python",
   "name": "python",
   "nbconvert_exporter": "python",
   "pygments_lexer": "ipython3",
   "version": "3.7.6"
  }
 },
 "nbformat": 4,
 "nbformat_minor": 4
}
