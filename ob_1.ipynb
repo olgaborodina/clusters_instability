{
 "cells": [
  {
   "cell_type": "code",
   "execution_count": 1,
   "metadata": {},
   "outputs": [],
   "source": [
    "import numpy as np\n",
    "from numpy import linalg as l\n",
    "import scipy.integrate as integrate\n",
    "import matplotlib.pyplot as plt"
   ]
  },
  {
   "cell_type": "code",
   "execution_count": 104,
   "metadata": {},
   "outputs": [],
   "source": [
    "a=5\n",
    "N=1000\n",
    "\n",
    "'''\n",
    "right_part = np.geomspace(1, a + 1, 1000)\n",
    "y = np.append(right_part - 1,- right_part + 1)\n",
    "y = np.unique(y) #np.linspace(-a, a, 1001)\n",
    "'''\n",
    "\n",
    "uy = np.linspace(-np.sqrt(a), np.sqrt(a), N+1)\n",
    "y = np.sign(uy) * uy**2\n",
    "\n",
    "Y, Y_ = np.meshgrid(y, y, indexing='ij')\n",
    "\n",
    "'''\n",
    "step_y1 = y - np.roll(y, 1)\n",
    "step_y2 = np.roll(y, -1) - y\n",
    "step_y1[0] = step_y2[-1] = 0\n",
    "step_y = (step_y1 + step_y2) / 2 #trapezoidal rule\n",
    "'''\n",
    "\n",
    "step_y1 = y - np.roll(y, 1)\n",
    "step_y2 = np.roll(y, -1) - y\n",
    "step_y1[0] = step_y2[-1] = 0\n",
    "step_y = (step_y1 + step_y2) / 2 #trapezoidal rule\n",
    "\n",
    "u = np.tanh(y)\n",
    "dev2u = - 2 * np.tanh(y) / (np.cosh(y) ** 2)\n",
    "\n",
    "min_Y = np.minimum(Y, Y_)\n",
    "max_Y = np.maximum(Y, Y_)"
   ]
  },
  {
   "cell_type": "code",
   "execution_count": 108,
   "metadata": {},
   "outputs": [],
   "source": [
    "psi_exact = 1 / np.cosh(y)\n",
    "zeta_exact = -2 / (np.cosh(y) ** 3)"
   ]
  },
  {
   "cell_type": "code",
   "execution_count": 109,
   "metadata": {},
   "outputs": [],
   "source": [
    "def count_eigen(k, a, max_Y, u, min_Y, dev2u, step_y):\n",
    "    green = - (np.exp(- k * max_Y) - np.exp(- k * (2 * a - max_Y))) * \\\n",
    "              (np.exp(k * min_Y) - np.exp(- k * (2 * a + min_Y))) / \\\n",
    "              (1 - np.exp(- 4 * k * a)) / 2 / k\n",
    "    \n",
    "    kernel = np.diag(u) - (np.tile(dev2u, (len(dev2u), 1)).T * #np.tile() for manual \n",
    "                           green *                             #broadcasting\n",
    "                           np.tile(step_y, (len(step_y), 1)))\n",
    "    \n",
    "    val, vect = l.eig(kernel)\n",
    "    return val, vect"
   ]
  },
  {
   "cell_type": "code",
   "execution_count": 110,
   "metadata": {},
   "outputs": [],
   "source": [
    "def plot_eigen(val, vect, k):\n",
    "    fig, ax = plt.subplots(figsize=(11, 3))\n",
    "    \n",
    "    try: \n",
    "        k = k.round(5)\n",
    "    except:\n",
    "        k = k\n",
    "    \n",
    "    plt.subplot(1, 2, 1)\n",
    "    plt.scatter(np.real(val), np.imag(val), s=8, alpha=0.7, label=f'k = {k}')\n",
    "    plt.xlabel('Re(c)')\n",
    "    plt.ylabel('Im(c)')\n",
    "    plt.legend(fontsize=8)\n",
    "\n",
    "    plt.subplot(1, 2, 2)\n",
    "    # vect = vect.T\n",
    "    idx_complexval1 = np.imag(val).argmax()\n",
    "    # idx_complexval2 = np.imag(val).argmin()\n",
    "    z = vect[:,idx_complexval1]\n",
    "    re_z = np.real(z)\n",
    "    plt.plot(y, -2*re_z/np.max(re_z), label=f'Re(EigVec) \\n with C={val[idx_complexval1].round(5)}')\n",
    "    plt.plot(y, -2*np.imag(z)/np.max(re_z), label=f'Im(EigVec) \\n with C={val[idx_complexval1].round(5)}')\n",
    "    \n",
    "    plt.plot(y, zeta_exact, label=f'exact', linestyle=':', color='k')\n",
    "    \n",
    "    plt.legend(fontsize=8)\n",
    "    \n",
    "    return plt.show()"
   ]
  },
  {
   "cell_type": "code",
   "execution_count": 111,
   "metadata": {},
   "outputs": [],
   "source": [
    "def plot_difference(vals, vect, k):\n",
    "    eps = 1e-15\n",
    "    vect = vect.T\n",
    "    idx_complexval = np.imag(vals).argmax()\n",
    "    zeta_vect = vect[idx_complexval]\n",
    "    psi_vect = zeta_vect * (u + eps - vals[idx_complexval]) / (dev2u + eps)\n",
    "    \n",
    "    fig, ax = plt.subplots(figsize=(11, 3))\n",
    "\n",
    "    plt.subplot(1, 2, 1)\n",
    "    plt.plot(y, np.real(zeta_vect), label=f'EigVec with C={vals[idx_complexval].round(2)}')\n",
    "    plt.plot(y, zeta_exact, label='exact solution')\n",
    "    plt.xlabel('y')\n",
    "    plt.ylabel('zeta(y)')\n",
    "    plt.ylim(-2.1, 1.1)\n",
    "    plt.legend(loc='upper right', fontsize=8)\n",
    "\n",
    "    plt.subplot(1, 2, 2)\n",
    "    vect = vect.T\n",
    "    idx_complexval = np.imag(vals).argmax()\n",
    "    plt.plot(y, np.real(psi_vect), label=f'psi with C={vals[idx_complexval].round(2)}')\n",
    "    plt.plot(y, psi_exact, label='exact solution')\n",
    "    plt.xlabel('y')\n",
    "    plt.ylabel('psi(y)')\n",
    "    plt.legend(loc='upper right', fontsize=8)"
   ]
  },
  {
   "cell_type": "code",
   "execution_count": 112,
   "metadata": {},
   "outputs": [
    {
     "data": {
      "image/png": "[encoded data removed]",
      "text/plain": [
       "<Figure size 792x216 with 2 Axes>"
      ]
     },
     "metadata": {
      "needs_background": "light"
     },
     "output_type": "display_data"
    }
   ],
   "source": [
    "k = 0.9997\n",
    "vals, vect = count_eigen(k, a, max_Y, u, min_Y, dev2u, step_y)\n",
    "plot_eigen(vals, vect, k)"
   ]
  },
  {
   "cell_type": "code",
   "execution_count": null,
   "metadata": {},
   "outputs": [],
   "source": []
  }
 ],
 "metadata": {
  "kernelspec": {
   "display_name": "Python 3",
   "language": "python",
   "name": "python3"
  },
  "language_info": {
   "codemirror_mode": {
    "name": "ipython",
    "version": 3
   },
   "file_extension": ".py",
   "mimetype": "text/x-python",
   "name": "python",
   "nbconvert_exporter": "python",
   "pygments_lexer": "ipython3",
   "version": "3.7.6"
  }
 },
 "nbformat": 4,
 "nbformat_minor": 4
}
